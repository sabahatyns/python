{
  "nbformat": 4,
  "nbformat_minor": 0,
  "metadata": {
    "colab": {
      "provenance": [],
      "include_colab_link": true
    },
    "kernelspec": {
      "name": "python3",
      "display_name": "Python 3"
    },
    "language_info": {
      "name": "python"
    }
  },
  "cells": [
    {
      "cell_type": "markdown",
      "metadata": {
        "id": "view-in-github",
        "colab_type": "text"
      },
      "source": [
        "<a href=\"https://colab.research.google.com/github/sabahatyns/python/blob/main/Copy_of_4th_class_python_and_AI_Bootcamp_ipynb.ipynb\" target=\"_parent\"><img src=\"https://colab.research.google.com/assets/colab-badge.svg\" alt=\"Open In Colab\"/></a>"
      ]
    },
    {
      "cell_type": "markdown",
      "source": [
        "# 📌 Agenda\n",
        "\n",
        "1. **Functions**\n",
        "   - Defining functions\n",
        "   - Parameters and return values\n",
        "   - Function best practices\n",
        "\n",
        "2. **Lambda Functions**\n",
        "   - Anonymous functions\n",
        "   - Usage with `map()`, `filter()`\n",
        "\n",
        "3. **List Comprehension**\n",
        "   - Basic syntax\n",
        "   - Conditional list comprehensions\n",
        "   - Nested list comprehensions\n",
        "\n",
        "4. **Exception Handling**\n",
        "   - `try...except` blocks\n",
        "   - Handling multiple exceptions\n",
        "   - `finally` and `raise` usage\n"
      ],
      "metadata": {
        "id": "1JYVgixHtaBw"
      }
    },
    {
      "cell_type": "markdown",
      "source": [
        "## **`range()` Function in Python**\n",
        "\n",
        "The `range()` function generates a sequence of numbers, often used in `for` loops.\n",
        "\n",
        "**Syntax:**\n",
        "```python\n",
        "range(start, stop, step)\n",
        "\n",
        "Parameters:\n",
        "\n",
        "start (optional) – The starting value of the sequence (default: 0).\n",
        "\n",
        "stop (required) – The number one past the last value in the sequence.\n",
        "\n",
        "step (optional) – The increment between each number (default: 1). Can be negative."
      ],
      "metadata": {
        "id": "z0O5reuhcCkj"
      }
    },
    {
      "cell_type": "markdown",
      "source": [
        "1️⃣ Counting Up\n",
        "\n"
      ],
      "metadata": {
        "id": "6igr-Qm9cK7D"
      }
    },
    {
      "cell_type": "code",
      "execution_count": null,
      "metadata": {
        "id": "rx-cODJ9bGUT"
      },
      "outputs": [],
      "source": [
        "# Print numbers from 1 to 5\n",
        "for i in range(1, 6):\n",
        "    print(i)\n"
      ]
    },
    {
      "cell_type": "markdown",
      "source": [
        "2️⃣ Counting Down"
      ],
      "metadata": {
        "id": "oz7EcB2HcSss"
      }
    },
    {
      "cell_type": "code",
      "source": [
        "# Print numbers from 10 down to 1\n",
        "for i in range(10, 0, -1):\n",
        "    print(i)\n"
      ],
      "metadata": {
        "id": "9sNHMSZbbYr7"
      },
      "execution_count": null,
      "outputs": []
    },
    {
      "cell_type": "markdown",
      "source": [
        "3️⃣ Multiplication Table"
      ],
      "metadata": {
        "id": "wRrbtxsicWrq"
      }
    },
    {
      "cell_type": "code",
      "source": [
        "# Print the 5 times table\n",
        "for i in range(1, 11):\n",
        "    print(f\"5 x {i} = {5*i}\")\n"
      ],
      "metadata": {
        "id": "ENxc_x27bjpK"
      },
      "execution_count": null,
      "outputs": []
    },
    {
      "cell_type": "markdown",
      "source": [
        "# 🐍 Python Functions – Definition & Examples\n",
        "\n",
        "## 📌 What is a Function?\n",
        "A **function** in Python is a block of reusable code that performs a specific task.  \n",
        "It helps organize code, avoid repetition, and make programs more readable.\n",
        "\n",
        "---\n",
        "\n",
        "## **Function Syntax**\n",
        "```python\n",
        "def function_name(parameters):\n",
        "    \"\"\"Optional docstring explaining the function.\"\"\"\n",
        "    # Code block\n",
        "    return value\n",
        "def → Keyword to define a function\n",
        "\n",
        "function_name → Name you choose for your function\n",
        "\n",
        "parameters → Inputs to the function (optional)\n",
        "\n",
        "return → Value the function sends back (optional)"
      ],
      "metadata": {
        "id": "ThLZ8xJXddWB"
      }
    },
    {
      "cell_type": "markdown",
      "source": [
        "1️⃣ Function Without Parameters"
      ],
      "metadata": {
        "id": "_t-Y1LrJdiwU"
      }
    },
    {
      "cell_type": "code",
      "source": [
        "def greet():\n",
        "    print(\"Hello\")\n",
        "\n",
        "greet()\n"
      ],
      "metadata": {
        "colab": {
          "base_uri": "https://localhost:8080/"
        },
        "id": "kDKp4Ce5c64I",
        "outputId": "db00c300-c83d-4f74-dd68-9b962f608439"
      },
      "execution_count": null,
      "outputs": [
        {
          "output_type": "stream",
          "name": "stdout",
          "text": [
            "Hello\n"
          ]
        }
      ]
    },
    {
      "cell_type": "code",
      "source": [
        "def greet_user(name):\n",
        "    print(f\"Hello, {name}!\")\n",
        "\n",
        "greet_user(\"Aqib\")\n"
      ],
      "metadata": {
        "colab": {
          "base_uri": "https://localhost:8080/"
        },
        "id": "iAcMIwUpdldj",
        "outputId": "4691aac6-d75c-4129-88f5-c41452f2c3c8"
      },
      "execution_count": null,
      "outputs": [
        {
          "output_type": "stream",
          "name": "stdout",
          "text": [
            "Hello, Aqib!\n"
          ]
        }
      ]
    },
    {
      "cell_type": "code",
      "source": [
        "def add_numbers(a, b):\n",
        "    return a + b\n",
        "\n",
        "result = add_numbers(5,1)\n",
        "print(result)\n"
      ],
      "metadata": {
        "colab": {
          "base_uri": "https://localhost:8080/"
        },
        "id": "oM7UwSKrdw_z",
        "outputId": "e412d93d-48cf-4e96-e121-225b34696059"
      },
      "execution_count": null,
      "outputs": [
        {
          "output_type": "stream",
          "name": "stdout",
          "text": [
            "6\n"
          ]
        }
      ]
    },
    {
      "cell_type": "code",
      "source": [
        "def greet_user(name=\"Guest\"):\n",
        "    print(f\"Hello, {name}!\")\n",
        "\n",
        "greet_user()\n",
        "greet_user(\"Bob\")\n"
      ],
      "metadata": {
        "colab": {
          "base_uri": "https://localhost:8080/"
        },
        "id": "2z_lZNPQd1Ty",
        "outputId": "72f868b5-461b-4fbe-ab7a-518ee90dcdc5"
      },
      "execution_count": null,
      "outputs": [
        {
          "output_type": "stream",
          "name": "stdout",
          "text": [
            "Hello, Guest!\n",
            "Hello, Bob!\n"
          ]
        }
      ]
    },
    {
      "cell_type": "code",
      "source": [
        "def calculate(a, b):\n",
        "    sum_val = a + b\n",
        "    diff_val = a - b\n",
        "    return sum_val, diff_val\n",
        "\n",
        "s, d = calculate(10, 4)\n",
        "print(\"Sum:\", s)\n",
        "print(\"Difference:\", d)\n"
      ],
      "metadata": {
        "colab": {
          "base_uri": "https://localhost:8080/"
        },
        "id": "BJTsBr9jeFBz",
        "outputId": "703a9188-0d91-45ef-aeaf-387ce38b06f5"
      },
      "execution_count": null,
      "outputs": [
        {
          "output_type": "stream",
          "name": "stdout",
          "text": [
            "Sum: 14\n",
            "Difference: 6\n"
          ]
        }
      ]
    },
    {
      "cell_type": "markdown",
      "source": [
        "✅ Tips:\n",
        "\n",
        "Use descriptive function names.\n",
        "\n",
        "Keep functions small and focused on a single task.\n",
        "\n",
        "Add docstrings to explain what the function does."
      ],
      "metadata": {
        "id": "uffas8XbeP2r"
      }
    },
    {
      "cell_type": "markdown",
      "source": [
        "# 🐍 Python Built-in Functions\n",
        "\n",
        "Python comes with **built-in functions** that you can use without importing any module.  \n",
        "These are always available in Python.\n",
        "\n",
        "---\n",
        "\n",
        "## 📌 Commonly Used Built-in Functions\n",
        "\n",
        "| Function | Description | Example |\n",
        "|----------|-------------|---------|\n",
        "| `print()` | Displays output to the screen | `print(\"Hello\")` → `Hello` |\n",
        "| `len()` | Returns the length of an object | `len(\"Python\")` → `6` |\n",
        "| `type()` | Returns the type of an object | `type(5)` → `<class 'int'>` |\n",
        "| `int()` | Converts to an integer | `int(3.9)` → `3` |\n",
        "| `float()` | Converts to a float | `float(3)` → `3.0` |\n",
        "| `str()` | Converts to a string | `str(123)` → `\"123\"` |\n",
        "| `abs()` | Returns absolute value | `abs(-7)` → `7` |\n",
        "| `sum()` | Returns sum of an iterable | `sum([1,2,3])` → `6` |\n",
        "| `max()` | Returns the largest value | `max(2,5,1)` → `5` |\n",
        "| `min()` | Returns the smallest value | `min(2,5,1)` → `1` |\n",
        "| `round()` | Rounds a number | `round(3.1416, 2)` → `3.14` |\n",
        "| `sorted()` | Returns a sorted list | `sorted([3,1,2])` → `[1,2,3]` |\n",
        "| `range()` | Generates a sequence of numbers | `list(range(3))` → `[0,1,2]` |\n",
        "| `input()` | Reads user input as a string | `name = input(\"Enter name: \")` |\n",
        "| `help()` | Displays documentation | `help(len)` |\n",
        "| `dir()` | Lists attributes of an object | `dir(str)` |\n",
        "\n",
        "---\n",
        "\n",
        "## 🔹 Example Code\n",
        "```python\n",
        "numbers = [4, 7, 1, 9, 3]\n",
        "\n",
        "print(\"Length:\", len(numbers))\n",
        "print(\"Max:\", max(numbers))\n",
        "print(\"Min:\", min(numbers))\n",
        "print(\"Sum:\", sum(numbers))\n",
        "print(\"Sorted:\", sorted(numbers))\n"
      ],
      "metadata": {
        "id": "g3gibllUe2dt"
      }
    },
    {
      "cell_type": "markdown",
      "source": [
        "📚 More Built-in Functions\n",
        "You can see the full list in Python's documentation:\n",
        "Python Built-in Functions"
      ],
      "metadata": {
        "id": "2EwgaRJte_N0"
      }
    },
    {
      "cell_type": "markdown",
      "source": [
        "# ⚡ Python Lambda Functions\n",
        "\n",
        "## 📌 What is a Lambda Function?\n",
        "A **lambda function** is a small, anonymous (unnamed) function in Python.  \n",
        "It can have any number of arguments but only **one expression**.  \n",
        "\n",
        "---\n",
        "\n",
        "## **Syntax**\n",
        "```python\n",
        "lambda arguments: expression\n"
      ],
      "metadata": {
        "id": "4Cp7ZkDzeXKF"
      }
    },
    {
      "cell_type": "markdown",
      "source": [
        "## 🔹 Why Do We Use Lambda Functions in Python?\n",
        "\n",
        "### 1️⃣ Concise Syntax\n",
        "- Lambda functions can be written in **one line**.\n",
        "- No need to define a separate function with `def` when it’s only used once.\n",
        "\n",
        "```python\n",
        "square = lambda x: x**2\n",
        "print(square(5))  # 25\n"
      ],
      "metadata": {
        "id": "L2dxlj380PUJ"
      }
    },
    {
      "cell_type": "code",
      "source": [
        "square = lambda x: x**2\n",
        "print(square(5))\n"
      ],
      "metadata": {
        "colab": {
          "base_uri": "https://localhost:8080/"
        },
        "id": "AeUEeEYceJFm",
        "outputId": "65ad2c89-504e-4df3-ebf1-ab8ea80dcf7c"
      },
      "execution_count": null,
      "outputs": [
        {
          "output_type": "stream",
          "name": "stdout",
          "text": [
            "25\n"
          ]
        }
      ]
    },
    {
      "cell_type": "code",
      "source": [
        "add = lambda a, b: a + b\n",
        "print(add(3, 7))\n"
      ],
      "metadata": {
        "colab": {
          "base_uri": "https://localhost:8080/"
        },
        "id": "UQl1y0p5eaeQ",
        "outputId": "a24232cc-86fb-446a-fbf1-341c40a53382"
      },
      "execution_count": null,
      "outputs": [
        {
          "output_type": "stream",
          "name": "stdout",
          "text": [
            "10\n"
          ]
        }
      ]
    },
    {
      "cell_type": "code",
      "source": [
        "nums = [1, 2, 3, 4]\n",
        "squares = list(map(lambda x: x**2, nums))\n",
        "print(squares)\n"
      ],
      "metadata": {
        "colab": {
          "base_uri": "https://localhost:8080/"
        },
        "id": "_sHsnEJAec62",
        "outputId": "aee7cd07-376f-4540-8bf0-5c822755cd07"
      },
      "execution_count": null,
      "outputs": [
        {
          "output_type": "stream",
          "name": "stdout",
          "text": [
            "[1, 4, 9, 16]\n"
          ]
        }
      ]
    },
    {
      "cell_type": "code",
      "source": [
        "nums = [10, 15, 20, 25, 30]\n",
        "even_nums = list(filter(lambda x: x % 2 == 0, nums))\n",
        "print(even_nums)\n"
      ],
      "metadata": {
        "colab": {
          "base_uri": "https://localhost:8080/"
        },
        "id": "eenpVeYbefUZ",
        "outputId": "ac254f3e-31c8-4bc0-eb09-7784c6126254"
      },
      "execution_count": null,
      "outputs": [
        {
          "output_type": "stream",
          "name": "stdout",
          "text": [
            "[10, 20, 30]\n"
          ]
        }
      ]
    },
    {
      "cell_type": "markdown",
      "source": [
        "## 📝 Introduction to List Comprehensions\n",
        "\n",
        "### **Definition**\n",
        "List comprehensions provide a **concise and readable** way to create lists in Python.  \n",
        "They allow you to **generate a new list** by applying an expression to each item in an existing iterable (like a list, tuple, string, or range), optionally including a condition.\n",
        "\n",
        "---\n",
        "\n",
        "### **Syntax**\n",
        "```python\n",
        "[expression for item in iterable if condition]\n",
        "\n",
        "expression → The value or transformation to include in the new list.\n",
        "\n",
        "item → Variable that takes each value from the iterable.\n",
        "\n",
        "iterable → A sequence (like a list, tuple, string, or range) to iterate over.\n",
        "\n",
        "condition (optional) → Filters which items are processed."
      ],
      "metadata": {
        "id": "enzLk5-_z40O"
      }
    },
    {
      "cell_type": "markdown",
      "source": [
        "## 1️⃣ Basic Transformation"
      ],
      "metadata": {
        "id": "IIynuepA0yEc"
      }
    },
    {
      "cell_type": "code",
      "source": [
        "numbers = [1, 2, 3, 4, 5]\n",
        "squares = [n**2 for n in numbers]\n",
        "print(squares)  # [1, 4, 9, 16, 25]\n"
      ],
      "metadata": {
        "colab": {
          "base_uri": "https://localhost:8080/"
        },
        "id": "AMcI_Tvk0hOg",
        "outputId": "598633aa-dfa2-40d3-e183-ca3dbf15da0d"
      },
      "execution_count": null,
      "outputs": [
        {
          "output_type": "stream",
          "name": "stdout",
          "text": [
            "[1, 4, 9, 16, 25]\n"
          ]
        }
      ]
    },
    {
      "cell_type": "markdown",
      "source": [
        "2️⃣ With Condition (Filtering)\n",
        "\n"
      ],
      "metadata": {
        "id": "jKogpzp602LR"
      }
    },
    {
      "cell_type": "code",
      "source": [
        "numbers = [1, 2, 3, 4, 5, 6]\n",
        "even_numbers = [n for n in numbers if n % 2 == 0]\n",
        "print(even_numbers)  # [2, 4, 6]"
      ],
      "metadata": {
        "colab": {
          "base_uri": "https://localhost:8080/"
        },
        "id": "cfWIMj7Y1B5G",
        "outputId": "9a01ed9a-9205-42cd-abce-2620e87f632d"
      },
      "execution_count": null,
      "outputs": [
        {
          "output_type": "stream",
          "name": "stdout",
          "text": [
            "[2, 4, 6]\n"
          ]
        }
      ]
    },
    {
      "cell_type": "markdown",
      "source": [
        "## 🔹 Why Do We Use List Comprehensions?\n",
        "\n",
        "### 1️⃣ Concise and Readable Code\n",
        "- Allows creating new lists in a **single line**.\n",
        "- Eliminates the need for multi-line `for` loops with `append()`.\n",
        "\n",
        "```python\n",
        "# Traditional\n",
        "squares = []\n",
        "for n in range(5):\n",
        "    squares.append(n**2)\n",
        "\n",
        "# List comprehension\n",
        "squares = [n**2 for n in range(5)]\n",
        "\n",
        "2️⃣ Combines Transformation and Filtering\n",
        "Transform items and filter them in the same expression.\n",
        "\n",
        "python\n",
        "Copy\n",
        "Edit\n",
        "even_squares = [n**2 for n in range(10) if n % 2 == 0]\n",
        "print(even_squares)  # [0, 4, 16, 36, 64]"
      ],
      "metadata": {
        "id": "5d7FxSbX1MVJ"
      }
    },
    {
      "cell_type": "markdown",
      "source": [
        "# ⚠️ Python Exception Handling\n",
        "\n",
        "## 📌 What is Exception Handling?\n",
        "- Exceptions are **errors** that occur during program execution.\n",
        "- Exception handling allows your program to **continue running** instead of crashing.\n",
        "- In Python, exceptions are handled using `try`, `except`, `else`, and `finally`.\n",
        "\n",
        "---\n",
        "\n",
        "## **Syntax**\n",
        "```python\n",
        "try:\n",
        "    # Code that may raise an exception\n",
        "except ExceptionType:\n",
        "    # Code to handle the exception\n",
        "else:\n",
        "    # Code to run if no exception occurs (optional)\n",
        "finally:\n",
        "    # Code that runs no matter what (optional)\n"
      ],
      "metadata": {
        "id": "bDnvVsVkfNd8"
      }
    },
    {
      "cell_type": "code",
      "source": [
        "try:\n",
        "    num = int(input(\"Enter a number: \"))\n",
        "    print(\"You entered:\", num)\n",
        "except ValueError:\n",
        "    print(\"❌ That is not a valid number!\")\n"
      ],
      "metadata": {
        "colab": {
          "base_uri": "https://localhost:8080/"
        },
        "id": "hm_9cVXaejtj",
        "outputId": "d72bab2e-0940-4f08-c76c-458d99b12968"
      },
      "execution_count": null,
      "outputs": [
        {
          "output_type": "stream",
          "name": "stdout",
          "text": [
            "Enter a number: a\n",
            "❌ That is not a valid number!\n"
          ]
        }
      ]
    },
    {
      "cell_type": "code",
      "source": [
        "try:\n",
        "    x = int(input(\"Enter numerator: \"))\n",
        "    y = int(input(\"Enter denominator: \"))\n",
        "    result = x / y\n",
        "    print(\"Result:\", result)\n",
        "except ValueError:\n",
        "    print(\"❌ Invalid number entered!\")\n",
        "except ZeroDivisionError:\n",
        "    print(\"❌ Cannot divide by zero!\")\n"
      ],
      "metadata": {
        "colab": {
          "base_uri": "https://localhost:8080/"
        },
        "id": "aplJiG08fRbw",
        "outputId": "18d26d2b-8574-401c-c370-e64185c3485b"
      },
      "execution_count": null,
      "outputs": [
        {
          "output_type": "stream",
          "name": "stdout",
          "text": [
            "Enter numerator: 2\n",
            "Enter denominator: 0\n",
            "❌ Cannot divide by zero!\n"
          ]
        }
      ]
    },
    {
      "cell_type": "code",
      "source": [
        "try:\n",
        "    num = int(input(\"Enter a positive number: \"))\n",
        "except ValueError:\n",
        "    print(\"❌ Invalid number!\")\n",
        "else:\n",
        "    print(\"✅ You entered:\", num)\n"
      ],
      "metadata": {
        "colab": {
          "base_uri": "https://localhost:8080/"
        },
        "id": "UG78sW6QfWJN",
        "outputId": "bc5f808d-df4f-4237-f4e9-51e99b0c6f77"
      },
      "execution_count": null,
      "outputs": [
        {
          "output_type": "stream",
          "name": "stdout",
          "text": [
            "Enter a positive number: 2\n",
            "✅ You entered: 2\n"
          ]
        }
      ]
    },
    {
      "cell_type": "code",
      "source": [
        "try:\n",
        "    f = open(\"test.txt\", \"w\")\n",
        "    f.write(\"Hello\")\n",
        "except Exception as e:\n",
        "    print(\"Error:\", e)\n",
        "finally:\n",
        "    f.close()\n",
        "    print(\"📂 File closed.\")\n"
      ],
      "metadata": {
        "id": "eO4-Uy_7fbgu",
        "outputId": "6abd6258-5061-4648-ebe0-78d394b069f5",
        "colab": {
          "base_uri": "https://localhost:8080/"
        }
      },
      "execution_count": null,
      "outputs": [
        {
          "output_type": "stream",
          "name": "stdout",
          "text": [
            "📂 File closed.\n"
          ]
        }
      ]
    },
    {
      "cell_type": "markdown",
      "source": [
        "## 🔹 Why Do We Use Exception Handling in Python?\n",
        "\n",
        "### 1️⃣ Prevent Program Crashes\n",
        "- Without exception handling, an error stops the entire program.\n",
        "- Using `try...except` allows the program to **continue running** even if an error occurs.\n",
        "\n",
        "```python\n",
        "try:\n",
        "    num = int(input(\"Enter a number: \"))\n",
        "    print(10 / num)\n",
        "except ZeroDivisionError:\n",
        "    print(\"❌ You cannot divide by zero.\")\n",
        "\n",
        "2️⃣ Provide User-Friendly Error Messages\n",
        "Replace technical error messages with clear, helpful feedback.\n",
        "\n",
        "try:\n",
        "    file = open(\"data.txt\")\n",
        "except FileNotFoundError:\n",
        "    print(\"⚠ File not found. Please check the file name.\")\n",
        "\n",
        "3️⃣ Handle Specific Error Types\n",
        "Catch different exceptions and handle them differently.\n",
        "\n",
        "try:\n",
        "    num = int(\"abc\")\n",
        "except ValueError:\n",
        "    print(\"Invalid number format.\")\n",
        "\n",
        "4️⃣ Ensure Cleanup Actions\n",
        "The finally block runs whether an error occurs or not — useful for closing files, releasing resources, or cleaning temporary data.\n",
        "\n",
        "try:\n",
        "    file = open(\"data.txt\")\n",
        "    # Do something with the file\n",
        "finally:\n",
        "    file.close()\n"
      ],
      "metadata": {
        "id": "4x5MWasL1d7v"
      }
    },
    {
      "cell_type": "markdown",
      "source": [
        "## Chapter Ends\n",
        "\n",
        "\n",
        "\n"
      ],
      "metadata": {
        "id": "UA-tvbdbQO63"
      }
    }
  ]
}