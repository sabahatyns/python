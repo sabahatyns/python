{
  "cells": [
    {
      "cell_type": "markdown",
      "metadata": {
        "id": "view-in-github",
        "colab_type": "text"
      },
      "source": [
        "<a href=\"https://colab.research.google.com/github/sabahatyns/python/blob/main/Copy_of_3rd_class_Python_%26_AI_Bootcamp.ipynb\" target=\"_parent\"><img src=\"https://colab.research.google.com/assets/colab-badge.svg\" alt=\"Open In Colab\"/></a>"
      ]
    },
    {
      "cell_type": "markdown",
      "id": "9286c071",
      "metadata": {
        "id": "9286c071"
      },
      "source": [
        "# Dictionary\n",
        "Dictionaries are used to store data values in key:value pairs.They are written with curly brackets, and have keys and values.\n",
        "* Values in a dictionary can be of any data type and can be **duplicated**, whereas **keys can't be repeated** and must be **immutable**.\n",
        "  ![Concept Dictionary](https://jeevangupta.com/wp-content/uploads/2021/10/Dictionary-in-Python-1024x742.png)"
      ]
    },
    {
      "cell_type": "markdown",
      "id": "e3c078cd",
      "metadata": {
        "id": "e3c078cd"
      },
      "source": [
        "## Creating Dictionary\n"
      ]
    },
    {
      "cell_type": "code",
      "execution_count": null,
      "id": "328497b3",
      "metadata": {
        "colab": {
          "base_uri": "https://localhost:8080/"
        },
        "id": "328497b3",
        "outputId": "20f8ae9b-d8b2-4e39-93b0-88c5b58499d1"
      },
      "outputs": [
        {
          "output_type": "stream",
          "name": "stdout",
          "text": [
            "{'name': 'Adil', 'age': 25, 'city': 'Paris'}\n"
          ]
        }
      ],
      "source": [
        "new_dict={\n",
        "    \"name\": \"Adil\",\n",
        "    \"age\": 25,\n",
        "    \"city\": \"Paris\",\n",
        "\n",
        "}\n",
        "\n",
        "print(new_dict)"
      ]
    },
    {
      "cell_type": "code",
      "execution_count": null,
      "id": "87335ab4",
      "metadata": {
        "colab": {
          "base_uri": "https://localhost:8080/"
        },
        "id": "87335ab4",
        "outputId": "b75e31d9-28e9-439e-eabb-cdfbd044cef5"
      },
      "outputs": [
        {
          "output_type": "stream",
          "name": "stdout",
          "text": [
            "{'brand': 'Ford', 'model': 'Mustang', 'year': 1964}\n"
          ]
        }
      ],
      "source": [
        "my_dict={\n",
        "  #  \"brand\":\"Toyota\"\n",
        "   \"brand\": \"Ford\",\n",
        "  \"model\": \"Mustang\",\n",
        "  \"year\": 1964\n",
        "}\n",
        "\n",
        "print(my_dict)"
      ]
    },
    {
      "cell_type": "markdown",
      "id": "a6f406d9",
      "metadata": {
        "id": "a6f406d9"
      },
      "source": [
        "##  Accessing Items\n",
        "we can access the items of a dictionary by referring to its **key name**, inside square brackets.\n",
        "just like in list we pass index to access the item at that index. in dictionary we pass **key** to access the item at that key.\n"
      ]
    },
    {
      "cell_type": "code",
      "execution_count": null,
      "id": "a3e146ab",
      "metadata": {
        "id": "a3e146ab",
        "outputId": "832046a5-2901-44ca-ca84-75b8ab1d1821",
        "colab": {
          "base_uri": "https://localhost:8080/",
          "height": 35
        }
      },
      "outputs": [
        {
          "output_type": "execute_result",
          "data": {
            "text/plain": [
              "'Ford'"
            ],
            "application/vnd.google.colaboratory.intrinsic+json": {
              "type": "string"
            }
          },
          "metadata": {},
          "execution_count": 4
        }
      ],
      "source": [
        "# prinintg value of brand key\n",
        "my_dict['brand']"
      ]
    },
    {
      "cell_type": "code",
      "execution_count": null,
      "id": "dbea59fc",
      "metadata": {
        "id": "dbea59fc"
      },
      "outputs": [],
      "source": [
        "my_dict[\"year\"]"
      ]
    },
    {
      "cell_type": "markdown",
      "id": "21c717d3",
      "metadata": {
        "id": "21c717d3"
      },
      "source": [
        "* **Get Keys** :The **keys()** method will return a list of all the keys in the dictionary.\n",
        "* **Get Values**: The **values()** method will return a list of all the values in the dictionary."
      ]
    },
    {
      "cell_type": "code",
      "execution_count": null,
      "id": "6e64938a",
      "metadata": {
        "id": "6e64938a",
        "colab": {
          "base_uri": "https://localhost:8080/"
        },
        "outputId": "841883aa-7daf-496d-994b-91fd56d696d3"
      },
      "outputs": [
        {
          "output_type": "stream",
          "name": "stdout",
          "text": [
            "dict_keys(['brand', 'model', 'year'])\n",
            "dict_values(['Ford', 'Mustang', 1964])\n"
          ]
        }
      ],
      "source": [
        "print(my_dict.keys())\n",
        "print(my_dict.values())"
      ]
    },
    {
      "cell_type": "markdown",
      "id": "b43309ea",
      "metadata": {
        "id": "b43309ea"
      },
      "source": [
        "## Changing Values\n",
        "you can change the value of a **specific item** by referring to its **key name**:"
      ]
    },
    {
      "cell_type": "code",
      "execution_count": null,
      "id": "45c8cb2e",
      "metadata": {
        "id": "45c8cb2e",
        "outputId": "20331817-fe3d-467e-98dd-b7a93f6fe4c1",
        "colab": {
          "base_uri": "https://localhost:8080/"
        }
      },
      "outputs": [
        {
          "output_type": "stream",
          "name": "stdout",
          "text": [
            "{'brand': 'Ford', 'model': 'Honda', 'year': 2025}\n"
          ]
        }
      ],
      "source": [
        "my_dict[\"year\"]=2025\n",
        "\n",
        "my_dict['model']='Honda'\n",
        "print(my_dict)"
      ]
    },
    {
      "cell_type": "markdown",
      "id": "96c40e5a",
      "metadata": {
        "id": "96c40e5a"
      },
      "source": [
        "## Adding Items\n",
        "Adding an item to the dictionary is done by using a new index key and assigning a value to it"
      ]
    },
    {
      "cell_type": "code",
      "execution_count": null,
      "id": "af85eb45",
      "metadata": {
        "id": "af85eb45"
      },
      "outputs": [],
      "source": [
        "my_dict[\"country\"]=\"Pakistan\""
      ]
    },
    {
      "cell_type": "code",
      "execution_count": null,
      "id": "559990f9",
      "metadata": {
        "id": "559990f9",
        "outputId": "896afa5f-6585-426d-9614-6ea8025f783e",
        "colab": {
          "base_uri": "https://localhost:8080/"
        }
      },
      "outputs": [
        {
          "output_type": "execute_result",
          "data": {
            "text/plain": [
              "{'brand': 'Ford', 'model': 'Mustang', 'year': 1964}"
            ]
          },
          "metadata": {},
          "execution_count": 17
        }
      ],
      "source": [
        "my_dict"
      ]
    },
    {
      "cell_type": "code",
      "source": [
        "del my_dict['year']"
      ],
      "metadata": {
        "id": "Wb7bC6n3L3-l"
      },
      "id": "Wb7bC6n3L3-l",
      "execution_count": null,
      "outputs": []
    },
    {
      "cell_type": "code",
      "source": [
        "my_dict"
      ],
      "metadata": {
        "colab": {
          "base_uri": "https://localhost:8080/"
        },
        "id": "LZFuApztMNiI",
        "outputId": "6de89b1e-88fd-4bd4-e25e-c172a205c19d"
      },
      "id": "LZFuApztMNiI",
      "execution_count": null,
      "outputs": [
        {
          "output_type": "execute_result",
          "data": {
            "text/plain": [
              "{'brand': 'Ford', 'model': 'Mustang'}"
            ]
          },
          "metadata": {},
          "execution_count": 20
        }
      ]
    },
    {
      "cell_type": "markdown",
      "source": [],
      "metadata": {
        "id": "gp0pOrW6L3hv"
      },
      "id": "gp0pOrW6L3hv"
    },
    {
      "cell_type": "code",
      "execution_count": null,
      "id": "381a166f",
      "metadata": {
        "id": "381a166f",
        "outputId": "04dd6017-1305-4d07-fbe3-f1d7a03c2410",
        "colab": {
          "base_uri": "https://localhost:8080/"
        }
      },
      "outputs": [
        {
          "output_type": "stream",
          "name": "stdout",
          "text": [
            "{'brand': 'Ford', 'model': 'Honda', 'year': 2025, 'Hero': 'Adil khan'}\n"
          ]
        }
      ],
      "source": [
        "my_dict['Hero']='Adil khan'\n",
        "print(my_dict)"
      ]
    },
    {
      "cell_type": "markdown",
      "id": "74f7c021",
      "metadata": {
        "id": "74f7c021"
      },
      "source": [
        "## Removing Items\n",
        "there are several methods to remove items from a dictionary:\n",
        "* The **pop()** method removes the item with the specified key name:\n",
        "* The **del** keyword removes the item with the specified key name:\n",
        "* The **clear()** method empties the dictionary:\n"
      ]
    },
    {
      "cell_type": "code",
      "execution_count": null,
      "id": "153524d4",
      "metadata": {
        "id": "153524d4",
        "colab": {
          "base_uri": "https://localhost:8080/",
          "height": 35
        },
        "outputId": "4bd50865-36d7-4f1b-ec8f-19960d8a98f6"
      },
      "outputs": [
        {
          "output_type": "execute_result",
          "data": {
            "text/plain": [
              "'Adil khan'"
            ],
            "application/vnd.google.colaboratory.intrinsic+json": {
              "type": "string"
            }
          },
          "metadata": {},
          "execution_count": 13
        }
      ],
      "source": [
        "my_dict.pop('Hero')"
      ]
    },
    {
      "cell_type": "code",
      "source": [
        "my_dict"
      ],
      "metadata": {
        "colab": {
          "base_uri": "https://localhost:8080/"
        },
        "id": "xn20s8f6LO4T",
        "outputId": "dc56d69b-3bab-4d14-dd64-1248b17169ff"
      },
      "id": "xn20s8f6LO4T",
      "execution_count": null,
      "outputs": [
        {
          "output_type": "execute_result",
          "data": {
            "text/plain": [
              "{'brand': 'Ford', 'model': 'Honda', 'year': 2025}"
            ]
          },
          "metadata": {},
          "execution_count": 14
        }
      ]
    },
    {
      "cell_type": "code",
      "execution_count": null,
      "id": "c48066dc",
      "metadata": {
        "id": "c48066dc",
        "outputId": "9c82f7e1-53d4-43e3-aa9b-7b8bd52ab949",
        "colab": {
          "base_uri": "https://localhost:8080/"
        }
      },
      "outputs": [
        {
          "output_type": "stream",
          "name": "stdout",
          "text": [
            "{}\n"
          ]
        }
      ],
      "source": [
        "my_dict.clear()\n",
        "\n",
        "print(my_dict)"
      ]
    },
    {
      "cell_type": "markdown",
      "id": "252f497f",
      "metadata": {
        "id": "252f497f"
      },
      "source": [
        "## Loop Through Dictionary\n",
        "You can loop through a dictionary by using a for loop."
      ]
    },
    {
      "cell_type": "code",
      "execution_count": null,
      "id": "b6617792",
      "metadata": {
        "id": "b6617792"
      },
      "outputs": [],
      "source": [
        "my_dict={\n",
        "    \"brand\": \"Ford\",\n",
        "  \"model\": \"Mustang\",\n",
        "  \"year\": 1964\n",
        "  }"
      ]
    },
    {
      "cell_type": "markdown",
      "id": "98a1fffd",
      "metadata": {
        "id": "98a1fffd"
      },
      "source": [
        "1. Print **all key names** in the dictionary."
      ]
    },
    {
      "cell_type": "code",
      "execution_count": null,
      "id": "a954c37d",
      "metadata": {
        "id": "a954c37d",
        "outputId": "e336765e-4f07-4372-a2a0-dc23ca1d3270",
        "colab": {
          "base_uri": "https://localhost:8080/"
        }
      },
      "outputs": [
        {
          "output_type": "stream",
          "name": "stdout",
          "text": [
            "brand\n",
            "model\n",
            "year\n"
          ]
        }
      ],
      "source": [
        "for x in my_dict:\n",
        "    print(x)"
      ]
    },
    {
      "cell_type": "markdown",
      "id": "0f0276a6",
      "metadata": {
        "id": "0f0276a6"
      },
      "source": [
        "2. Print **all values** in the dictionary, one by one:"
      ]
    },
    {
      "cell_type": "code",
      "execution_count": null,
      "id": "b53e5f72",
      "metadata": {
        "id": "b53e5f72",
        "outputId": "381b98d9-253c-49cf-9c69-fd8aa88754e4",
        "colab": {
          "base_uri": "https://localhost:8080/"
        }
      },
      "outputs": [
        {
          "output_type": "stream",
          "name": "stdout",
          "text": [
            "Ford\n",
            "Mustang\n",
            "1964\n"
          ]
        }
      ],
      "source": [
        "for x in my_dict:\n",
        "    print(my_dict[x])"
      ]
    },
    {
      "cell_type": "markdown",
      "id": "29d6e2cc",
      "metadata": {
        "id": "29d6e2cc"
      },
      "source": [
        "can also use\n",
        "* values() method to return values of a dictionary:\n",
        "* keys() method to return the keys of a dictionary:"
      ]
    },
    {
      "cell_type": "markdown",
      "id": "a2570c8e",
      "metadata": {
        "id": "a2570c8e"
      },
      "source": [
        "## Advacne Concept - Nested Dictionary\n"
      ]
    },
    {
      "cell_type": "code",
      "execution_count": null,
      "id": "1e94d297",
      "metadata": {
        "id": "1e94d297"
      },
      "outputs": [],
      "source": [
        "myfamily = {\n",
        "  \"child1\" : {\n",
        "    \"name\" : \"Emil\",\n",
        "    \"year\" : 2004\n",
        "  },\n",
        "  \"child2\" : {\n",
        "    \"name\" : \"Tobias\",\n",
        "    \"year\" : 2007\n",
        "  },\n",
        "  \"child3\" : {\n",
        "    \"name\" : \"Linus\",\n",
        "    \"year\" : 2011\n",
        "  }\n",
        "}"
      ]
    },
    {
      "cell_type": "code",
      "execution_count": null,
      "id": "85f81649",
      "metadata": {
        "id": "85f81649",
        "outputId": "a94abe24-d129-4c89-95f7-cf08c907c1e0",
        "colab": {
          "base_uri": "https://localhost:8080/"
        }
      },
      "outputs": [
        {
          "output_type": "stream",
          "name": "stdout",
          "text": [
            "Tobias\n"
          ]
        }
      ],
      "source": [
        "print(myfamily[\"child2\"][\"name\"])"
      ]
    },
    {
      "cell_type": "markdown",
      "id": "06e1061c",
      "metadata": {
        "id": "06e1061c"
      },
      "source": [
        "## Dictionary Methods\n",
        "\n",
        "![Python-Dictionary-Methods.webp](data:image/webp;base64,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)"
      ]
    },
    {
      "cell_type": "markdown",
      "id": "c725b17f",
      "metadata": {
        "id": "c725b17f"
      },
      "source": [
        "## Example Scenarios\n",
        "\n",
        "1. Student Grades:\n",
        "    - Store student grades in a dictionary with student names as keys and grades as values.\n",
        "    - Calculate average grades or retrieve specific student grades.\n",
        "2. Product Inventory:\n",
        "    - Store product information in a dictionary with product IDs as keys and product details as values.\n",
        "    - Update product quantities or retrieve product information.\n",
        "3. User Profiles:\n",
        "    - Store user profile information in a dictionary with user IDs as keys and profile details as values.\n",
        "    - Retrieve user information or update user profiles.\n"
      ]
    },
    {
      "cell_type": "code",
      "execution_count": null,
      "id": "730b255f",
      "metadata": {
        "id": "730b255f",
        "outputId": "916a3a39-9367-4ed3-b392-cadeaa2dfa38"
      },
      "outputs": [
        {
          "name": "stdout",
          "output_type": "stream",
          "text": [
            "84.33333333333333\n"
          ]
        }
      ],
      "source": [
        "# Student Grades\n",
        "student_grades = {\n",
        "    'John': 85,\n",
        "    'Jane': 90,\n",
        "    'Bob': 78\n",
        "}\n",
        "# getting all values\n",
        "all_scores=student_grades.values()\n",
        "no_of_items=len(all_scores)\n",
        "\n",
        "sum=sum(all_scores)\n",
        "avg=sum/no_of_items\n",
        "print(avg)\n",
        "\n"
      ]
    },
    {
      "cell_type": "markdown",
      "id": "f322bba3",
      "metadata": {
        "id": "f322bba3"
      },
      "source": [
        "## ✅Dictionary\n",
        "\n",
        "* Create a dictionary of 3 favorite movies with release years. Print each key-value pair.\n",
        "* Write a program to count how many times each character appears in a string.\n",
        "* Create a dictionary from two lists: one with keys and one with values.\n",
        "* Create a dictionary to store a person’s details: name, age, and profession. Use a function to display the details."
      ]
    },
    {
      "cell_type": "markdown",
      "source": [
        "# Tuples and sets\n",
        "[Tuples and sets Colab Files](https://colab.research.google.com/drive/1_xa37KgQfgI6RHwX5ZGM1_3soRwLyLKw?usp=sharing)"
      ],
      "metadata": {
        "id": "c4d1OeKMhDP6"
      },
      "id": "c4d1OeKMhDP6"
    },
    {
      "cell_type": "markdown",
      "source": [
        "# Python Strings\n",
        "\n",
        "[Python Strings Colab File](https://colab.research.google.com/drive/1jAcVAtbSSgtKTj28I85NmOmqPGGHVqMu#scrollTo=pJrj-QjH42u)"
      ],
      "metadata": {
        "id": "0aqkY8fHlctW"
      },
      "id": "0aqkY8fHlctW"
    }
  ],
  "metadata": {
    "kernelspec": {
      "display_name": "Python 3",
      "language": "python",
      "name": "python3"
    },
    "language_info": {
      "codemirror_mode": {
        "name": "ipython",
        "version": 3
      },
      "file_extension": ".py",
      "mimetype": "text/x-python",
      "name": "python",
      "nbconvert_exporter": "python",
      "pygments_lexer": "ipython3",
      "version": "3.12.3"
    },
    "colab": {
      "provenance": [],
      "include_colab_link": true
    }
  },
  "nbformat": 4,
  "nbformat_minor": 5
}