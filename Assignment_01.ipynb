{
  "nbformat": 4,
  "nbformat_minor": 0,
  "metadata": {
    "colab": {
      "provenance": [],
      "authorship_tag": "ABX9TyNDGui3/HmmbW6M9BqZqvqe",
      "include_colab_link": true
    },
    "kernelspec": {
      "name": "python3",
      "display_name": "Python 3"
    },
    "language_info": {
      "name": "python"
    }
  },
  "cells": [
    {
      "cell_type": "markdown",
      "metadata": {
        "id": "view-in-github",
        "colab_type": "text"
      },
      "source": [
        "<a href=\"https://colab.research.google.com/github/sabahatyns/python/blob/main/Assignment_01.ipynb\" target=\"_parent\"><img src=\"https://colab.research.google.com/assets/colab-badge.svg\" alt=\"Open In Colab\"/></a>"
      ]
    },
    {
      "cell_type": "markdown",
      "source": [
        "**Task 1**"
      ],
      "metadata": {
        "id": "0upnko6I5nMk"
      }
    },
    {
      "cell_type": "code",
      "metadata": {
        "colab": {
          "base_uri": "https://localhost:8080/"
        },
        "id": "e2ba71a0",
        "outputId": "ca5f4af1-7ffa-4f06-b939-9362de3779eb"
      },
      "source": [
        "for i in range(1, 7):\n",
        "    print(\"*\" * i)"
      ],
      "execution_count": 5,
      "outputs": [
        {
          "output_type": "stream",
          "name": "stdout",
          "text": [
            "*\n",
            "**\n",
            "***\n",
            "****\n",
            "*****\n",
            "******\n"
          ]
        }
      ]
    },
    {
      "cell_type": "markdown",
      "source": [
        "**Task 2**"
      ],
      "metadata": {
        "id": "QI3PeOnY9nSj"
      }
    },
    {
      "cell_type": "code",
      "source": [
        "def multiplication_table():\n",
        "    while True:\n",
        "        try:\n",
        "            a = int(input(\"Enter a positive number: \"))\n",
        "            if a > 0:\n",
        "                break\n",
        "            else:\n",
        "                print(\"Please enter a positive number.\")\n",
        "        except ValueError:\n",
        "            print(\"Invalid input! Please enter a valid number.\")\n",
        "\n",
        "    for i in range(1, 11):\n",
        "        print(f\"{a} x {i} = {a * i}\")\n",
        "\n",
        "multiplication_table()\n"
      ],
      "metadata": {
        "colab": {
          "base_uri": "https://localhost:8080/"
        },
        "id": "m9M2aT_n9rSG",
        "outputId": "d2c98e03-d08f-425f-cd91-153e187df73a"
      },
      "execution_count": 32,
      "outputs": [
        {
          "output_type": "stream",
          "name": "stdout",
          "text": [
            "Enter a positive number: -9\n",
            "Please enter a positive number.\n",
            "Enter a positive number: 6\n",
            "6 x 1 = 6\n",
            "6 x 2 = 12\n",
            "6 x 3 = 18\n",
            "6 x 4 = 24\n",
            "6 x 5 = 30\n",
            "6 x 6 = 36\n",
            "6 x 7 = 42\n",
            "6 x 8 = 48\n",
            "6 x 9 = 54\n",
            "6 x 10 = 60\n"
          ]
        }
      ]
    },
    {
      "cell_type": "markdown",
      "source": [
        "**Task 3**"
      ],
      "metadata": {
        "id": "ffv23P8LCEZi"
      }
    },
    {
      "cell_type": "code",
      "source": [
        "def fibonacci_sequence():\n",
        "    n = int(input(\"Enter number of terms: \"))\n",
        "\n",
        "    if n <= 0:\n",
        "        print(\"Please enter a positive number.\")\n",
        "        return\n",
        "\n",
        "    a, b = 0, 1\n",
        "\n",
        "    for i in range(n):\n",
        "        print(a, end=\" \")\n",
        "        a, b = b, a + b\n",
        "\n",
        "fibonacci_sequence()\n"
      ],
      "metadata": {
        "colab": {
          "base_uri": "https://localhost:8080/"
        },
        "id": "Qm_V9s0TCG3g",
        "outputId": "372465c4-9302-4e81-ad7c-abf08ab2fb75"
      },
      "execution_count": 36,
      "outputs": [
        {
          "output_type": "stream",
          "name": "stdout",
          "text": [
            "Enter number of terms: 6\n",
            "0 1 1 2 3 5 "
          ]
        }
      ]
    },
    {
      "cell_type": "markdown",
      "source": [
        "**Task 4**"
      ],
      "metadata": {
        "id": "HOb0Pmz1DCb4"
      }
    },
    {
      "cell_type": "code",
      "source": [
        "def dictionary_example():\n",
        "    people = {\n",
        "        'Ali': 23,\n",
        "        'Sara': 21,\n",
        "        'Hassan': 25\n",
        "    }\n",
        "    print(people)\n",
        "\n",
        "    keys = list(people.keys())\n",
        "    values = list(people.values())\n",
        "\n",
        "    print(\"Keys:\", keys)\n",
        "    print(\"Values:\", values)\n",
        "\n",
        "dictionary_example()\n"
      ],
      "metadata": {
        "colab": {
          "base_uri": "https://localhost:8080/"
        },
        "id": "EB0on-qpDFDR",
        "outputId": "e7ee70b2-e2fd-4fcb-83a2-9fa6e31b51a3"
      },
      "execution_count": 38,
      "outputs": [
        {
          "output_type": "stream",
          "name": "stdout",
          "text": [
            "{'Ali': 23, 'Sara': 21, 'Hassan': 25}\n",
            "Keys: ['Ali', 'Sara', 'Hassan']\n",
            "Values: [23, 21, 25]\n"
          ]
        }
      ]
    },
    {
      "cell_type": "markdown",
      "source": [
        "**Task 5**"
      ],
      "metadata": {
        "id": "jQ8eH9ZaDTrE"
      }
    },
    {
      "cell_type": "code",
      "source": [
        "def even_odd_counter():\n",
        "    numbers = input(\"Enter numbers separated by spaces: \")\n",
        "\n",
        "    num_list = [int(x) for x in numbers.split()]\n",
        "\n",
        "    even_count = 0\n",
        "    odd_count = 0\n",
        "\n",
        "    for num in num_list:\n",
        "        if num % 2 == 0:\n",
        "            even_count += 1\n",
        "        else:\n",
        "            odd_count += 1\n",
        "\n",
        "    print(\"Even numbers:\", even_count)\n",
        "    print(\"Odd numbers:\", odd_count)\n",
        "\n",
        "even_odd_counter()\n"
      ],
      "metadata": {
        "colab": {
          "base_uri": "https://localhost:8080/"
        },
        "id": "HmaJOM8KDWCQ",
        "outputId": "de72f963-b040-45aa-ba71-1d7b5a2b7768"
      },
      "execution_count": 39,
      "outputs": [
        {
          "output_type": "stream",
          "name": "stdout",
          "text": [
            "Enter numbers separated by spaces: 3 4 5\n",
            "Even numbers: 1\n",
            "Odd numbers: 2\n"
          ]
        }
      ]
    },
    {
      "cell_type": "markdown",
      "source": [
        "***Task 6***"
      ],
      "metadata": {
        "id": "E233SHtHDjdZ"
      }
    },
    {
      "cell_type": "code",
      "source": [
        "def factorial_finder():\n",
        "    num = int(input(\"Enter a number: \"))\n",
        "\n",
        "    if num < 0:\n",
        "        print(\"Factorial does not exist for negative numbers.\")\n",
        "        return\n",
        "\n",
        "    elif num == 0:\n",
        "        print(\"The factorial of 0 is 1.\")\n",
        "        return\n",
        "\n",
        "    fact = 1\n",
        "\n",
        "    for i in range(1, num + 1):\n",
        "        fact *= i\n",
        "\n",
        "    print(f\"The factorial of {num} is {fact}.\")\n",
        "\n",
        "factorial_finder()\n"
      ],
      "metadata": {
        "colab": {
          "base_uri": "https://localhost:8080/"
        },
        "id": "xac-ib4-DnwK",
        "outputId": "da8dfd6d-2b51-4245-8c13-5b9b4f5cefda"
      },
      "execution_count": 40,
      "outputs": [
        {
          "output_type": "stream",
          "name": "stdout",
          "text": [
            "Enter a number: 7\n",
            "The factorial of 7 is 5040.\n"
          ]
        }
      ]
    },
    {
      "cell_type": "markdown",
      "source": [
        "**Task** **7**"
      ],
      "metadata": {
        "id": "mpNwEhxlD6P_"
      }
    },
    {
      "cell_type": "code",
      "source": [
        "def find_max_min():\n",
        "    numbers = input(\"Enter integers separated by spaces: \").split()\n",
        "    numbers = [int(num) for num in numbers]\n",
        "\n",
        "    maximum = numbers[0]\n",
        "    minimum = numbers[0]\n",
        "\n",
        "    for num in numbers:\n",
        "        if num > maximum:\n",
        "            maximum = num\n",
        "        if num < minimum:\n",
        "            minimum = num\n",
        "\n",
        "    print(\"Maximum number:\", maximum)\n",
        "    print(\"Minimum number:\", minimum)\n",
        "\n",
        "find_max_min()\n"
      ],
      "metadata": {
        "colab": {
          "base_uri": "https://localhost:8080/"
        },
        "id": "kwodC_YKD-dx",
        "outputId": "99f0d938-b0d2-4725-9adf-5bf79dceaa9b"
      },
      "execution_count": 41,
      "outputs": [
        {
          "output_type": "stream",
          "name": "stdout",
          "text": [
            "Enter integers separated by spaces: 3 5 4\n",
            "Maximum number: 5\n",
            "Minimum number: 3\n"
          ]
        }
      ]
    },
    {
      "cell_type": "markdown",
      "source": [
        "**Task 8**"
      ],
      "metadata": {
        "id": "TLsQXoRqEauU"
      }
    },
    {
      "cell_type": "code",
      "source": [
        "import requests\n",
        "from bs4 import BeautifulSoup\n",
        "\n",
        "def scrape_quotes():\n",
        "    url = \"https://quotes.toscrape.com\"\n",
        "    response = requests.get(url)\n",
        "    soup = BeautifulSoup(response.text, \"html.parser\")\n",
        "\n",
        "    quotes = soup.find_all(\"div\", class_=\"quote\")\n",
        "\n",
        "    for quote in quotes:\n",
        "        text = quote.find(\"span\", class_=\"text\").get_text()\n",
        "        author = quote.find(\"small\", class_=\"author\").get_text()\n",
        "        print(f\"{text} — {author}\")\n",
        "\n",
        "scrape_quotes()\n"
      ],
      "metadata": {
        "colab": {
          "base_uri": "https://localhost:8080/"
        },
        "id": "D2o2_LQREc20",
        "outputId": "e884a17b-a37d-4454-cae0-d1f62b19a26e"
      },
      "execution_count": 42,
      "outputs": [
        {
          "output_type": "stream",
          "name": "stdout",
          "text": [
            "“The world as we have created it is a process of our thinking. It cannot be changed without changing our thinking.” — Albert Einstein\n",
            "“It is our choices, Harry, that show what we truly are, far more than our abilities.” — J.K. Rowling\n",
            "“There are only two ways to live your life. One is as though nothing is a miracle. The other is as though everything is a miracle.” — Albert Einstein\n",
            "“The person, be it gentleman or lady, who has not pleasure in a good novel, must be intolerably stupid.” — Jane Austen\n",
            "“Imperfection is beauty, madness is genius and it's better to be absolutely ridiculous than absolutely boring.” — Marilyn Monroe\n",
            "“Try not to become a man of success. Rather become a man of value.” — Albert Einstein\n",
            "“It is better to be hated for what you are than to be loved for what you are not.” — André Gide\n",
            "“I have not failed. I've just found 10,000 ways that won't work.” — Thomas A. Edison\n",
            "“A woman is like a tea bag; you never know how strong it is until it's in hot water.” — Eleanor Roosevelt\n",
            "“A day without sunshine is like, you know, night.” — Steve Martin\n"
          ]
        }
      ]
    },
    {
      "cell_type": "markdown",
      "source": [
        "**Task 9**"
      ],
      "metadata": {
        "id": "Xvz-IQ4EEpWB"
      }
    },
    {
      "cell_type": "code",
      "source": [
        "import requests\n",
        "from bs4 import BeautifulSoup\n",
        "import csv\n",
        "\n",
        "def scrape_hackernews():\n",
        "    url = \"https://news.ycombinator.com\"\n",
        "    response = requests.get(url)\n",
        "    soup = BeautifulSoup(response.text, \"html.parser\")\n",
        "\n",
        "    articles = soup.find_all(\"a\", class_=\"storylink\")\n",
        "\n",
        "    with open(\"hackernews_articles.csv\", \"w\", newline=\"\", encoding=\"utf-8\") as file:\n",
        "        writer = csv.writer(file)\n",
        "        writer.writerow([\"Title\", \"Link\"])\n",
        "\n",
        "        for article in articles:\n",
        "            title = article.get_text()\n",
        "            link = article[\"href\"]\n",
        "            writer.writerow([title, link])\n",
        "\n",
        "    print(\"Data saved to hackernews_articles.csv\")\n",
        "\n",
        "scrape_hackernews()\n"
      ],
      "metadata": {
        "colab": {
          "base_uri": "https://localhost:8080/"
        },
        "id": "_xDSVE1kEq9K",
        "outputId": "5fccc51e-774d-479a-a018-2c5630c2ef94"
      },
      "execution_count": 43,
      "outputs": [
        {
          "output_type": "stream",
          "name": "stdout",
          "text": [
            "Data saved to hackernews_articles.csv\n"
          ]
        }
      ]
    }
  ]
}