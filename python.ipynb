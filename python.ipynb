{
  "nbformat": 4,
  "nbformat_minor": 0,
  "metadata": {
    "colab": {
      "provenance": [],
      "authorship_tag": "ABX9TyNQZVT3+bA7vjCizbPgPE05",
      "include_colab_link": true
    },
    "kernelspec": {
      "name": "python3",
      "display_name": "Python 3"
    },
    "language_info": {
      "name": "python"
    }
  },
  "cells": [
    {
      "cell_type": "markdown",
      "metadata": {
        "id": "view-in-github",
        "colab_type": "text"
      },
      "source": [
        "<a href=\"https://colab.research.google.com/github/sabahatyns/python/blob/main/python.ipynb\" target=\"_parent\"><img src=\"https://colab.research.google.com/assets/colab-badge.svg\" alt=\"Open In Colab\"/></a>"
      ]
    },
    {
      "cell_type": "code",
      "source": [
        "# ---------------------------------------\n",
        "# 🎯 PYTHON DATA TYPES - PRACTICE FILE\n",
        "# ---------------------------------------\n",
        "\n",
        "# 1️⃣ NUMBERS (int, float, complex)\n",
        "num_int = 10\n",
        "num_float = 3.14\n",
        "num_complex = 2 + 3j\n",
        "\n",
        "print(\"📘 Numbers:\")\n",
        "print(type(num_int), num_int)\n",
        "print(type(num_float), num_float)\n",
        "print(type(num_complex), num_complex)\n",
        "print()\n",
        "\n"
      ],
      "metadata": {
        "colab": {
          "base_uri": "https://localhost:8080/"
        },
        "id": "c4UNjgz5R-Jl",
        "outputId": "f9b60fd1-cac5-460c-ea8c-64b8942b3e03"
      },
      "execution_count": 64,
      "outputs": [
        {
          "output_type": "stream",
          "name": "stdout",
          "text": [
            "📘 Numbers:\n",
            "<class 'int'> 10\n",
            "<class 'float'> 3.14\n",
            "<class 'complex'> (2+3j)\n",
            "\n"
          ]
        }
      ]
    },
    {
      "cell_type": "code",
      "source": [
        "\n",
        "# 2️⃣ STRING (str)\n",
        "name = \"Sabahat\"\n",
        "greeting = f\"Hello, {name}\"\n",
        "greeting2 = \"Hello \"+ name\n",
        "print(type(name), name)\n",
        "print(greeting)\n",
        "print(\"Upper:\", name.upper())\n",
        "print(\"Slice:\", name[1:4])\n",
        "print(len(name))\n",
        "print(greeting2)"
      ],
      "metadata": {
        "colab": {
          "base_uri": "https://localhost:8080/"
        },
        "id": "YiGh6Qx-SG_m",
        "outputId": "97a3e030-12c9-4394-f2b2-6afe6c901732"
      },
      "execution_count": 65,
      "outputs": [
        {
          "output_type": "stream",
          "name": "stdout",
          "text": [
            "<class 'str'> Sabahat\n",
            "Hello, Sabahat\n",
            "Upper: SABAHAT\n",
            "Slice: aba\n",
            "7\n",
            "Hello Sabahat\n"
          ]
        }
      ]
    },
    {
      "cell_type": "code",
      "source": [
        "# 3️⃣ BOOLEAN (bool)\n",
        "is_active = True\n",
        "is_logged_in = False\n",
        "print(type(is_active), is_active)\n",
        "print(\"Comparison example:\", 10 > 5)\n",
        "print()"
      ],
      "metadata": {
        "colab": {
          "base_uri": "https://localhost:8080/"
        },
        "id": "HjiKg7BfSMTV",
        "outputId": "44bddf2c-e812-476a-c15a-167566e5c1ea"
      },
      "execution_count": 66,
      "outputs": [
        {
          "output_type": "stream",
          "name": "stdout",
          "text": [
            "📙 Booleans:\n",
            "<class 'bool'> True\n",
            "Comparison example: True\n",
            "\n"
          ]
        }
      ]
    },
    {
      "cell_type": "code",
      "source": [
        "# 4️⃣ LIST (ordered, mutable)\n",
        "fruits = [\"apple\", \"banana\", \"cherry\"]\n",
        "fruits.append(\"orange\")\n",
        "print(\"📒 Lists:\")\n",
        "print(type(fruits), fruits)\n",
        "print(\"First fruit:\", fruits[0])\n",
        "print(\"Sliced:\", fruits[1:3])\n",
        "print()"
      ],
      "metadata": {
        "colab": {
          "base_uri": "https://localhost:8080/"
        },
        "id": "I4uBH726SRPz",
        "outputId": "69630ec7-c22d-4d37-a900-c5c9a753f0d6"
      },
      "execution_count": 67,
      "outputs": [
        {
          "output_type": "stream",
          "name": "stdout",
          "text": [
            "📒 Lists:\n",
            "<class 'list'> ['apple', 'banana', 'cherry', 'orange']\n",
            "First fruit: apple\n",
            "Sliced: ['banana', 'cherry']\n",
            "\n"
          ]
        }
      ]
    },
    {
      "cell_type": "code",
      "source": [
        "# 5️⃣ TUPLE (ordered, immutable)\n",
        "colors = (\"red\", \"green\", \"blue\")\n",
        "print(\"📕 Tuples:\")\n",
        "print(type(colors), colors)\n",
        "# colors[0] = \"yellow\"  # ❌ would cause error\n",
        "print(\"Access tuple element:\", colors[1])\n",
        "print()"
      ],
      "metadata": {
        "colab": {
          "base_uri": "https://localhost:8080/"
        },
        "id": "t-rhIDp9SV0q",
        "outputId": "50caa68d-a45b-4aac-e467-2c756fe69dbb"
      },
      "execution_count": 68,
      "outputs": [
        {
          "output_type": "stream",
          "name": "stdout",
          "text": [
            "📕 Tuples:\n",
            "<class 'tuple'> ('red', 'green', 'blue')\n",
            "Access tuple element: green\n",
            "\n"
          ]
        }
      ]
    },
    {
      "cell_type": "code",
      "source": [
        "# 6️⃣ SET (unordered, unique elements)\n",
        "numbers = {1, 2, 3, 3, 4}\n",
        "numbers.add(5)\n",
        "print(\"📔 Sets:\")\n",
        "print(type(numbers), numbers)\n",
        "print(\"Check membership:\", 3 in numbers)\n",
        "print()\n"
      ],
      "metadata": {
        "colab": {
          "base_uri": "https://localhost:8080/"
        },
        "id": "80BJbiCbSa5e",
        "outputId": "69cd30b7-ce5c-45c5-e3dd-0aa3c4cca88b"
      },
      "execution_count": 69,
      "outputs": [
        {
          "output_type": "stream",
          "name": "stdout",
          "text": [
            "📔 Sets:\n",
            "<class 'set'> {1, 2, 3, 4, 5}\n",
            "Check membership: True\n",
            "\n"
          ]
        }
      ]
    },
    {
      "cell_type": "code",
      "source": [
        "# 7️⃣ DICTIONARY (key-value pairs)\n",
        "person = {\n",
        "    \"name\": \"Sabahat\",\n",
        "    \"age\": 23,\n",
        "    \"country\": \"Pakistan\"\n",
        "}\n",
        "person[\"age\"] = 24  # update value\n",
        "print(\"📓 Dictionaries:\")\n",
        "print(type(person), person)\n",
        "print(\"Access by key:\", person[\"name\"])\n",
        "print()"
      ],
      "metadata": {
        "colab": {
          "base_uri": "https://localhost:8080/"
        },
        "id": "jor2od8lSfqA",
        "outputId": "67b1c2e2-fbd0-415d-bdae-afb9a020982a"
      },
      "execution_count": 70,
      "outputs": [
        {
          "output_type": "stream",
          "name": "stdout",
          "text": [
            "📓 Dictionaries:\n",
            "<class 'dict'> {'name': 'Sabahat', 'age': 24, 'country': 'Pakistan'}\n",
            "Access by key: Sabahat\n",
            "\n"
          ]
        }
      ]
    },
    {
      "cell_type": "code",
      "source": [
        "# 8️⃣ NONE TYPE\n",
        "nothing = None\n",
        "print(\"📘 None Type:\")\n",
        "print(type(nothing), nothing)\n",
        "print()\n",
        "\n",
        "# 9️⃣ BYTE TYPES (bytes, bytearray, memoryview)\n",
        "data_bytes = b\"Hello\"\n",
        "data_array = bytearray(5)\n",
        "data_view = memoryview(b\"Python\")\n",
        "print(\"📗 Byte Types:\")\n",
        "print(type(data_bytes), data_bytes)\n",
        "print(type(data_array), data_array)\n",
        "print(type(data_view), data_view)\n",
        "print()\n"
      ],
      "metadata": {
        "colab": {
          "base_uri": "https://localhost:8080/"
        },
        "id": "0yB_Jg5jSl_i",
        "outputId": "3504be3d-c30c-4728-bdd2-f36f62669067"
      },
      "execution_count": 71,
      "outputs": [
        {
          "output_type": "stream",
          "name": "stdout",
          "text": [
            "📘 None Type:\n",
            "<class 'NoneType'> None\n",
            "\n",
            "📗 Byte Types:\n",
            "<class 'bytes'> b'Hello'\n",
            "<class 'bytearray'> bytearray(b'\\x00\\x00\\x00\\x00\\x00')\n",
            "<class 'memoryview'> <memory at 0x7bfa8e38ed40>\n",
            "\n"
          ]
        }
      ]
    },
    {
      "cell_type": "code",
      "source": [
        "# 🔟 TYPE CONVERSIONS\n",
        "print(\"📙 Type Conversions:\")\n",
        "x = 5\n",
        "print(\"int to float:\", float(x))\n",
        "y = \"123\"\n",
        "print(\"str to int:\", int(y))\n",
        "print(\"list from string:\", list(\"abc\"))\n",
        "print()\n",
        "\n",
        "# 🧠 BONUS: MIXED COLLECTION\n",
        "mixed = [123, \"abc\", 3.14, True, None, [1, 2], {\"a\": 1}]\n",
        "print(\"📔 Mixed list:\", mixed)\n",
        "print()\n",
        "\n",
        "print(\"✅ All data types covered!\")"
      ],
      "metadata": {
        "colab": {
          "base_uri": "https://localhost:8080/"
        },
        "id": "ee9B_AxqSq7M",
        "outputId": "de41f3e7-fefd-419a-8aa8-5b82d65ec8b6"
      },
      "execution_count": 72,
      "outputs": [
        {
          "output_type": "stream",
          "name": "stdout",
          "text": [
            "📙 Type Conversions:\n",
            "int to float: 5.0\n",
            "str to int: 123\n",
            "list from string: ['a', 'b', 'c']\n",
            "\n",
            "📔 Mixed list: [123, 'abc', 3.14, True, None, [1, 2], {'a': 1}]\n",
            "\n",
            "✅ All data types covered!\n"
          ]
        }
      ]
    },
    {
      "cell_type": "code",
      "source": [
        "def Hello(a):\n",
        "  for i in range(len(a)):\n",
        "    if i == 1:\n",
        "      continue # it will skip the value at 1\n",
        "    print(\"hello world index\", i)\n",
        "    print(\"hello world value\", a[i])\n",
        "\n",
        "Hello([1,2,3])"
      ],
      "metadata": {
        "colab": {
          "base_uri": "https://localhost:8080/"
        },
        "id": "GDfQWAczXJkV",
        "outputId": "eb0ad93c-c843-4004-975e-296cd43639ae"
      },
      "execution_count": 94,
      "outputs": [
        {
          "output_type": "stream",
          "name": "stdout",
          "text": [
            "hello world index 0\n",
            "hello world value 1\n",
            "hello world index 2\n",
            "hello world value 3\n"
          ]
        }
      ]
    }
  ]
}